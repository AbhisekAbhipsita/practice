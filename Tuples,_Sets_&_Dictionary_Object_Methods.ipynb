{
  "nbformat": 4,
  "nbformat_minor": 0,
  "metadata": {
    "colab": {
      "provenance": []
    },
    "kernelspec": {
      "name": "python3",
      "display_name": "Python 3"
    },
    "language_info": {
      "name": "python"
    }
  },
  "cells": [
    {
      "cell_type": "markdown",
      "source": [
        "### 1. Explain Accessing and Slicing in Tuple?\n",
        "\n",
        "Accessing and Slicing of Tuple:\n",
        "  - Indexing: Elements in a tuple are accessed using their index positions, starting from 0.\n",
        "  \n",
        "  Example:\n"
      ],
      "metadata": {
        "id": "SuidmCX4s5NO"
      }
    },
    {
      "cell_type": "code",
      "execution_count": null,
      "metadata": {
        "colab": {
          "base_uri": "https://localhost:8080/",
          "height": 35
        },
        "id": "_2zy_CrUseWK",
        "outputId": "f5826bb7-1cd1-46f6-c70e-8e0d5b59aa7f"
      },
      "outputs": [
        {
          "output_type": "execute_result",
          "data": {
            "text/plain": [
              "'ML'"
            ],
            "application/vnd.google.colaboratory.intrinsic+json": {
              "type": "string"
            }
          },
          "metadata": {},
          "execution_count": 1
        }
      ],
      "source": [
        "tuple_1 = ('ML', 'DS', 'DL', 'Python')\n",
        "tuple_1[0]"
      ]
    },
    {
      "cell_type": "markdown",
      "source": [
        "- Slicing: Sections of tuples can be retrieved using slicing operations, denoted by [start:stop:step].\n",
        "\n",
        "Example:"
      ],
      "metadata": {
        "id": "VPwOr2N-tGx2"
      }
    },
    {
      "cell_type": "code",
      "source": [
        "tuple_1[1:3]"
      ],
      "metadata": {
        "colab": {
          "base_uri": "https://localhost:8080/"
        },
        "id": "zcHGtI8ktI-x",
        "outputId": "149be980-0d97-454b-d47c-c2013d2a0adf"
      },
      "execution_count": null,
      "outputs": [
        {
          "output_type": "execute_result",
          "data": {
            "text/plain": [
              "('DS', 'DL')"
            ]
          },
          "metadata": {},
          "execution_count": 2
        }
      ]
    },
    {
      "cell_type": "markdown",
      "source": [
        "- Nested Tuples: Tuples can contain other tuples as elements, allowing for nested structures.\n",
        "\n",
        "Example:"
      ],
      "metadata": {
        "id": "s_n9tWEZtJVA"
      }
    },
    {
      "cell_type": "code",
      "source": [
        "nested_tuple = ((1, 2), ('a', 'b'), (True, False))"
      ],
      "metadata": {
        "id": "MK3WiT9MtMwN"
      },
      "execution_count": null,
      "outputs": []
    },
    {
      "cell_type": "markdown",
      "source": [
        "---\n",
        "\n",
        "### 2. Write a Real-time Usage Python code for Tuple.\n",
        "\n",
        "Obtaining specific songs from a playlist:"
      ],
      "metadata": {
        "id": "eDRQhtyhtnnK"
      }
    },
    {
      "cell_type": "code",
      "source": [
        "#Analogy: Obtaining specific songs from a playlist\n",
        "playlist = ('Song1', 'Song2', 'Song3', 'Song4', 'Song5')\n",
        "\n",
        "\n",
        "# Accessing a particular song using indexing\n",
        "current_song = playlist[2]\n",
        "print(f\"Currently playing: {current_song}\")\n",
        "\n",
        "\n",
        "# Accessing a subset of songs using slicing\n",
        "favourite_songs = playlist[1:4]\n",
        "print(f\"Favourite songs: {favourite_songs}\")"
      ],
      "metadata": {
        "colab": {
          "base_uri": "https://localhost:8080/"
        },
        "id": "KrQUWShAtzXL",
        "outputId": "e03cc19b-0c12-475b-f601-9e90297bdc14"
      },
      "execution_count": null,
      "outputs": [
        {
          "output_type": "stream",
          "name": "stdout",
          "text": [
            "Currently playing: Song3\n",
            "Favourite songs: ('Song2', 'Song3', 'Song4')\n"
          ]
        }
      ]
    },
    {
      "cell_type": "markdown",
      "source": [
        "---\n",
        "\n",
        "### 3. Explain Different Methods in Set?\n",
        "\n",
        "  - `add()`: Adds an element to the set\n",
        "  - `remove()`: Removes a specific element from the set. Raises an error if the element doesn’t exist.\n",
        "  - `discard()`: Removes a specific element from the set if it exists. Doesn't raise an error if the element is not present.\n",
        "  - `clear()`: Empties the set, making it empty.\n",
        "\n",
        "---\n",
        "\n",
        "### 4. State different Operations in set.\n",
        "\n",
        "  - Union (`|`): Combines elements from two sets, excluding duplicates.\n",
        "  - Intersection (`&`): Finds common elements between sets.\n",
        "  - Difference (`-`): Returns elements that are in the first set but not in the second.\n",
        "  - Symmetric Difference (`^`): Returns elements that are in either of the sets, but not in both.\n",
        "\n",
        "---\n",
        "\n",
        "### 5. Write the real-time Analogy code for Dictionary usage in Library.\n",
        "\n",
        "In a restaurant, a menu consists of various dishes with their respective prices and descriptions."
      ],
      "metadata": {
        "id": "6yOnAGDjtz48"
      }
    },
    {
      "cell_type": "code",
      "source": [
        "# Dictionary representing a restaurant menu\n",
        "restaurant_menu = {\n",
        "    'Dish1': {'name': 'Pasta Carbonara', 'price': 15.99, 'description': 'Creamy pasta with bacon and parmesan'},\n",
        "    'Dish2': {'name': 'Chicken Caesar Salad', 'price': 12.50, 'description': 'Grilled chicken with romaine lettuce and Caesar dressing'},\n",
        "    'Dish3': {'name': 'Margherita Pizza', 'price': 14.00, 'description': 'Pizza topped with tomato, mozzarella, and basil'}\n",
        "}\n",
        "\n",
        "\n",
        "# Accessing dish details using the dish name\n",
        "dish_name = 'Dish3'\n",
        "print(f\"'{restaurant_menu[dish_name]['name']}' costs ${restaurant_menu[dish_name]['price']}.\")\n",
        "print(f\"Description: {restaurant_menu[dish_name]['description']}\")"
      ],
      "metadata": {
        "id": "4KL8VB24un4V",
        "outputId": "4569b494-5f79-4378-f190-c099ca3a0254",
        "colab": {
          "base_uri": "https://localhost:8080/"
        }
      },
      "execution_count": null,
      "outputs": [
        {
          "output_type": "stream",
          "name": "stdout",
          "text": [
            "'Margherita Pizza' costs $14.0.\n",
            "Description: Pizza topped with tomato, mozzarella, and basil\n"
          ]
        }
      ]
    }
  ]
}